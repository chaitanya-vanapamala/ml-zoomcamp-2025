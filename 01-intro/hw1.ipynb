{
 "cells": [
  {
   "cell_type": "markdown",
   "id": "60bdbca6-e726-4ab0-9ae8-9ea294c170dd",
   "metadata": {},
   "source": [
    "**This Notebook is done as part of DataTalk.club MLZoomCamp 2025.**\n",
    "- Module: 01 Intro\n",
    "- Homework: 1\n",
    "\n",
    "- Python Libraries Used: Numpy, Pandas.\n",
    "- Use uv for installing libraries through pyproject.toml"
   ]
  },
  {
   "cell_type": "code",
   "execution_count": 43,
   "id": "dbcc09f2-4da2-44d2-b01a-c3b721f62615",
   "metadata": {},
   "outputs": [],
   "source": [
    "import pandas as pd\n",
    "import numpy as np"
   ]
  },
  {
   "cell_type": "markdown",
   "id": "3f31cfa5-1ea5-4652-975d-a067fd7ffdd9",
   "metadata": {},
   "source": [
    "#### Q1. Pandas version"
   ]
  },
  {
   "cell_type": "code",
   "execution_count": 2,
   "id": "e01783b3-ab66-4a3b-aa19-958ada93e591",
   "metadata": {},
   "outputs": [
    {
     "data": {
      "text/plain": [
       "'2.3.2'"
      ]
     },
     "execution_count": 2,
     "metadata": {},
     "output_type": "execute_result"
    }
   ],
   "source": [
    "pd.__version__"
   ]
  },
  {
   "cell_type": "markdown",
   "id": "ae4d61e4-0fd7-4d13-859a-0c2f50e9111b",
   "metadata": {},
   "source": [
    "### Loading Dataset - car_fuel_efficiency.csv"
   ]
  },
  {
   "cell_type": "code",
   "execution_count": 3,
   "id": "ecdf4893-1c29-4ae9-8ece-9335b29b26d0",
   "metadata": {},
   "outputs": [],
   "source": [
    "cfe = pd.read_csv('data/car_fuel_efficiency.csv')"
   ]
  },
  {
   "cell_type": "code",
   "execution_count": 7,
   "id": "805edf2e-5ae3-4f94-8452-a827e0fbe771",
   "metadata": {},
   "outputs": [
    {
     "data": {
      "text/html": [
       "<div>\n",
       "<style scoped>\n",
       "    .dataframe tbody tr th:only-of-type {\n",
       "        vertical-align: middle;\n",
       "    }\n",
       "\n",
       "    .dataframe tbody tr th {\n",
       "        vertical-align: top;\n",
       "    }\n",
       "\n",
       "    .dataframe thead th {\n",
       "        text-align: right;\n",
       "    }\n",
       "</style>\n",
       "<table border=\"1\" class=\"dataframe\">\n",
       "  <thead>\n",
       "    <tr style=\"text-align: right;\">\n",
       "      <th></th>\n",
       "      <th>engine_displacement</th>\n",
       "      <th>num_cylinders</th>\n",
       "      <th>horsepower</th>\n",
       "      <th>vehicle_weight</th>\n",
       "      <th>acceleration</th>\n",
       "      <th>model_year</th>\n",
       "      <th>origin</th>\n",
       "      <th>fuel_type</th>\n",
       "      <th>drivetrain</th>\n",
       "      <th>num_doors</th>\n",
       "      <th>fuel_efficiency_mpg</th>\n",
       "    </tr>\n",
       "  </thead>\n",
       "  <tbody>\n",
       "    <tr>\n",
       "      <th>0</th>\n",
       "      <td>170</td>\n",
       "      <td>3.0</td>\n",
       "      <td>159.0</td>\n",
       "      <td>3413.433759</td>\n",
       "      <td>17.7</td>\n",
       "      <td>2003</td>\n",
       "      <td>Europe</td>\n",
       "      <td>Gasoline</td>\n",
       "      <td>All-wheel drive</td>\n",
       "      <td>0.0</td>\n",
       "      <td>13.231729</td>\n",
       "    </tr>\n",
       "    <tr>\n",
       "      <th>1</th>\n",
       "      <td>130</td>\n",
       "      <td>5.0</td>\n",
       "      <td>97.0</td>\n",
       "      <td>3149.664934</td>\n",
       "      <td>17.8</td>\n",
       "      <td>2007</td>\n",
       "      <td>USA</td>\n",
       "      <td>Gasoline</td>\n",
       "      <td>Front-wheel drive</td>\n",
       "      <td>0.0</td>\n",
       "      <td>13.688217</td>\n",
       "    </tr>\n",
       "    <tr>\n",
       "      <th>2</th>\n",
       "      <td>170</td>\n",
       "      <td>NaN</td>\n",
       "      <td>78.0</td>\n",
       "      <td>3079.038997</td>\n",
       "      <td>15.1</td>\n",
       "      <td>2018</td>\n",
       "      <td>Europe</td>\n",
       "      <td>Gasoline</td>\n",
       "      <td>Front-wheel drive</td>\n",
       "      <td>0.0</td>\n",
       "      <td>14.246341</td>\n",
       "    </tr>\n",
       "    <tr>\n",
       "      <th>3</th>\n",
       "      <td>220</td>\n",
       "      <td>4.0</td>\n",
       "      <td>NaN</td>\n",
       "      <td>2542.392402</td>\n",
       "      <td>20.2</td>\n",
       "      <td>2009</td>\n",
       "      <td>USA</td>\n",
       "      <td>Diesel</td>\n",
       "      <td>All-wheel drive</td>\n",
       "      <td>2.0</td>\n",
       "      <td>16.912736</td>\n",
       "    </tr>\n",
       "    <tr>\n",
       "      <th>4</th>\n",
       "      <td>210</td>\n",
       "      <td>1.0</td>\n",
       "      <td>140.0</td>\n",
       "      <td>3460.870990</td>\n",
       "      <td>14.4</td>\n",
       "      <td>2009</td>\n",
       "      <td>Europe</td>\n",
       "      <td>Gasoline</td>\n",
       "      <td>All-wheel drive</td>\n",
       "      <td>2.0</td>\n",
       "      <td>12.488369</td>\n",
       "    </tr>\n",
       "  </tbody>\n",
       "</table>\n",
       "</div>"
      ],
      "text/plain": [
       "   engine_displacement  num_cylinders  horsepower  vehicle_weight  \\\n",
       "0                  170            3.0       159.0     3413.433759   \n",
       "1                  130            5.0        97.0     3149.664934   \n",
       "2                  170            NaN        78.0     3079.038997   \n",
       "3                  220            4.0         NaN     2542.392402   \n",
       "4                  210            1.0       140.0     3460.870990   \n",
       "\n",
       "   acceleration  model_year  origin fuel_type         drivetrain  num_doors  \\\n",
       "0          17.7        2003  Europe  Gasoline    All-wheel drive        0.0   \n",
       "1          17.8        2007     USA  Gasoline  Front-wheel drive        0.0   \n",
       "2          15.1        2018  Europe  Gasoline  Front-wheel drive        0.0   \n",
       "3          20.2        2009     USA    Diesel    All-wheel drive        2.0   \n",
       "4          14.4        2009  Europe  Gasoline    All-wheel drive        2.0   \n",
       "\n",
       "   fuel_efficiency_mpg  \n",
       "0            13.231729  \n",
       "1            13.688217  \n",
       "2            14.246341  \n",
       "3            16.912736  \n",
       "4            12.488369  "
      ]
     },
     "execution_count": 7,
     "metadata": {},
     "output_type": "execute_result"
    }
   ],
   "source": [
    "cfe.head()"
   ]
  },
  {
   "cell_type": "markdown",
   "id": "454cf948-7835-4cc2-b7a2-e3be0646bef0",
   "metadata": {},
   "source": [
    "#### Q2. Records count"
   ]
  },
  {
   "cell_type": "code",
   "execution_count": 5,
   "id": "5369c155-ec7e-4c04-b05a-d90ab13ce07b",
   "metadata": {},
   "outputs": [
    {
     "name": "stdout",
     "output_type": "stream",
     "text": [
      "Total Records Count : 9704\n"
     ]
    }
   ],
   "source": [
    "nrows, rcols = cfe.shape\n",
    "\n",
    "print(\"Total Records Count :\", nrows)"
   ]
  },
  {
   "cell_type": "markdown",
   "id": "30b835c1-652b-463f-9059-1ac38211f967",
   "metadata": {},
   "source": [
    "#### Q3. Fuel types (How many fuel types are presented in the dataset?)"
   ]
  },
  {
   "cell_type": "code",
   "execution_count": 10,
   "id": "95890e82-f5e0-4fd6-9b5e-98dc5d251146",
   "metadata": {},
   "outputs": [
    {
     "name": "stdout",
     "output_type": "stream",
     "text": [
      "Types of Fuel in Dataset :\n"
     ]
    },
    {
     "data": {
      "text/plain": [
       "2"
      ]
     },
     "execution_count": 10,
     "metadata": {},
     "output_type": "execute_result"
    }
   ],
   "source": [
    "print(\"Types of Fuel in Dataset :\")\n",
    "cfe['fuel_type'].nunique()"
   ]
  },
  {
   "cell_type": "markdown",
   "id": "61b70c35-d694-449c-a128-bfc524978dff",
   "metadata": {},
   "source": [
    "#### Q4. Missing values (How many columns in the dataset have missing values?)"
   ]
  },
  {
   "cell_type": "code",
   "execution_count": 18,
   "id": "51539e8f-eb89-4393-9d3a-392705d14b91",
   "metadata": {},
   "outputs": [
    {
     "name": "stdout",
     "output_type": "stream",
     "text": [
      "Columns with Missing Values: \n",
      "num_cylinders    482\n",
      "horsepower       708\n",
      "acceleration     930\n",
      "num_doors        502\n",
      "dtype: int64\n",
      "Columns Count : 4\n"
     ]
    }
   ],
   "source": [
    "miss_cols = cfe.isna().sum()\n",
    "print(\"Columns with Missing Values: \")\n",
    "print(miss_cols[miss_cols > 0])\n",
    "print(\"Columns Count :\", miss_cols[miss_cols > 0].count())"
   ]
  },
  {
   "cell_type": "markdown",
   "id": "02bc129e-db65-49c7-a92d-45bcae9dfa2b",
   "metadata": {},
   "source": [
    "#### Q5. Max fuel efficiency (What's the maximum fuel efficiency of cars from Asia?)"
   ]
  },
  {
   "cell_type": "code",
   "execution_count": 19,
   "id": "aaa8ba3a-21a3-4a51-ad67-161a8b222edd",
   "metadata": {},
   "outputs": [
    {
     "data": {
      "text/plain": [
       "array(['Europe', 'USA', 'Asia'], dtype=object)"
      ]
     },
     "execution_count": 19,
     "metadata": {},
     "output_type": "execute_result"
    }
   ],
   "source": [
    "cfe['origin'].unique()"
   ]
  },
  {
   "cell_type": "code",
   "execution_count": 24,
   "id": "20e02830-4320-4815-a5e9-5dde7899969e",
   "metadata": {},
   "outputs": [
    {
     "name": "stdout",
     "output_type": "stream",
     "text": [
      "Max Fuel Efficiency of cars from asia : 23.759122836520497\n"
     ]
    }
   ],
   "source": [
    "asia_max_fuel_eff = cfe[cfe['origin'] == 'Asia']['fuel_efficiency_mpg'].max()\n",
    "print('Max Fuel Efficiency of cars from asia :', asia_max_fuel_eff)"
   ]
  },
  {
   "cell_type": "markdown",
   "id": "ff97e9b3-c05d-417b-ac71-f005ad22389e",
   "metadata": {},
   "source": [
    "#### Q6. Median value of horsepower"
   ]
  },
  {
   "cell_type": "markdown",
   "id": "a83fe739-0ba3-45fe-8c34-ef59169f05a9",
   "metadata": {},
   "source": [
    "1. Find the median value of the horsepower column in the dataset."
   ]
  },
  {
   "cell_type": "code",
   "execution_count": 26,
   "id": "717b6ead-d077-4ba3-ab05-8e856fe1ecdf",
   "metadata": {},
   "outputs": [
    {
     "name": "stdout",
     "output_type": "stream",
     "text": [
      "Original Median  149.0\n"
     ]
    }
   ],
   "source": [
    "original_median = cfe['horsepower'].median()\n",
    "print(\"Original Median \", original_median)"
   ]
  },
  {
   "cell_type": "markdown",
   "id": "c727844a-e357-4c44-be98-4eda2cfe26e7",
   "metadata": {},
   "source": [
    "2. Next, calculate the most frequent value of the same horsepower column.(Mode)"
   ]
  },
  {
   "cell_type": "code",
   "execution_count": 37,
   "id": "5b27f5ef-2705-4664-bb6f-aabec257a103",
   "metadata": {},
   "outputs": [
    {
     "name": "stdout",
     "output_type": "stream",
     "text": [
      "HP Mode  0    152.0\n",
      "Name: horsepower, dtype: float64\n"
     ]
    }
   ],
   "source": [
    "hp_mode = cfe['horsepower'].mode()\n",
    "print(\"HP Mode \", hp_mode)"
   ]
  },
  {
   "cell_type": "markdown",
   "id": "f3d74e49-d1dc-48fb-93b1-47e650f641f4",
   "metadata": {},
   "source": [
    "3. Use the fillna method to fill the missing values in the horsepower column with the most frequent value from the previous step."
   ]
  },
  {
   "cell_type": "code",
   "execution_count": 39,
   "id": "6d14ab0c-bf1f-4bef-85d4-903a5b57c5ca",
   "metadata": {},
   "outputs": [],
   "source": [
    "cfe['horsepower'] = cfe['horsepower'].fillna(152.0)"
   ]
  },
  {
   "cell_type": "markdown",
   "id": "772ab826-4c29-4079-953d-a65487740167",
   "metadata": {},
   "source": [
    "4. Now, calculate the median value of horsepower once again."
   ]
  },
  {
   "cell_type": "code",
   "execution_count": 40,
   "id": "d2b894b6-6b37-4fdf-8d78-00d9ec3b4d60",
   "metadata": {},
   "outputs": [
    {
     "name": "stdout",
     "output_type": "stream",
     "text": [
      "Updated HP Median  152.0\n"
     ]
    }
   ],
   "source": [
    "update_median = cfe['horsepower'].median()\n",
    "print(\"Updated HP Median \", update_median)"
   ]
  },
  {
   "cell_type": "markdown",
   "id": "0da10f3a-2f32-4f88-b4db-a3e9aab44833",
   "metadata": {},
   "source": [
    "#### Q7. Sum of weights"
   ]
  },
  {
   "cell_type": "code",
   "execution_count": 65,
   "id": "0bb1458c-1e05-404c-b500-131c04fb13e3",
   "metadata": {},
   "outputs": [
    {
     "name": "stdout",
     "output_type": "stream",
     "text": [
      "Sum of Weights : 0.5187709081074016\n"
     ]
    }
   ],
   "source": [
    "# Select all the cars from Asia\n",
    "# Select only columns vehicle_weight and model_year\n",
    "df = cfe[cfe['origin'] == 'Asia'][['vehicle_weight', 'model_year']]\n",
    "# Select the first 7 values\n",
    "df = df.head(7)\n",
    "# Get the underlying NumPy array. Let's call it X.\n",
    "X = df.to_numpy()\n",
    "# Compute matrix-matrix multiplication between the transpose of X and X. To get the transpose, use X.T. Let's call the result XTX.\n",
    "XTX = X.T @ X\n",
    "# Invert XTX.\n",
    "iXTX = np.linalg.inv(XTX)\n",
    "# Create an array y with values [1100, 1300, 800, 900, 1000, 1100, 1200].\n",
    "y = [1100, 1300, 800, 900, 1000, 1100, 1200]\n",
    "# Multiply the inverse of XTX with the transpose of X, and then multiply the result by y. Call the result w.\n",
    "w = (iXTX @ X.T) @ y\n",
    "w_sum = np.sum(w)\n",
    "print('Sum of Weights :', w_sum)"
   ]
  },
  {
   "cell_type": "code",
   "execution_count": null,
   "id": "b25572ad-decc-4d43-9512-921121e6c0ff",
   "metadata": {},
   "outputs": [],
   "source": []
  }
 ],
 "metadata": {
  "kernelspec": {
   "display_name": "Python 3 (ipykernel)",
   "language": "python",
   "name": "python3"
  },
  "language_info": {
   "codemirror_mode": {
    "name": "ipython",
    "version": 3
   },
   "file_extension": ".py",
   "mimetype": "text/x-python",
   "name": "python",
   "nbconvert_exporter": "python",
   "pygments_lexer": "ipython3",
   "version": "3.12.11"
  }
 },
 "nbformat": 4,
 "nbformat_minor": 5
}
